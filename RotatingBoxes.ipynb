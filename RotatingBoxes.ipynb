{
 "cells": [
  {
   "cell_type": "code",
   "execution_count": null,
   "metadata": {
    "collapsed": false,
    "jupyter": {
     "outputs_hidden": false
    }
   },
   "outputs": [
    {
     "data": {
      "text/html": [
       "<div id=\"glowscript\" class=\"glowscript\"></div>"
      ],
      "text/plain": [
       "<IPython.core.display.HTML object>"
      ]
     },
     "metadata": {},
     "output_type": "display_data"
    },
    {
     "data": {
      "application/javascript": [
       "if (typeof Jupyter !== \"undefined\") { window.__context = { glowscript_container: $(\"#glowscript\").removeAttr(\"id\")};}else{ element.textContent = ' ';}"
      ],
      "text/plain": [
       "<IPython.core.display.Javascript object>"
      ]
     },
     "metadata": {},
     "output_type": "display_data"
    },
    {
     "data": {
      "text/html": [
       "<div id=\"glowscript\" class=\"glowscript\"></div>"
      ],
      "text/plain": [
       "<IPython.core.display.HTML object>"
      ]
     },
     "metadata": {},
     "output_type": "display_data"
    },
    {
     "data": {
      "application/javascript": [
       "if (typeof Jupyter !== \"undefined\") { window.__context = { glowscript_container: $(\"#glowscript\").removeAttr(\"id\")};}else{ element.textContent = ' ';}"
      ],
      "text/plain": [
       "<IPython.core.display.Javascript object>"
      ]
     },
     "metadata": {},
     "output_type": "display_data"
    }
   ],
   "source": [
    "from vpython import *\n",
    "scene = canvas() # This is needed in Jupyter notebook and lab to make programs easily rerunnable\n",
    "\n",
    "N = 10\n",
    "\n",
    "scene.title = \"{} by {} by {} = {} rotating boxes\".format(N,N,N,N**3)\n",
    "\n",
    "boxes = []\n",
    "\n",
    "L = 6\n",
    "scene.range = L\n",
    "length = 0.6*L/N\n",
    "height = 0.4*L/N\n",
    "\n",
    "for x in range(N):\n",
    "    for y in range(N):\n",
    "        for z in range(N):\n",
    "            b = box(color=vector(x/N,y/N,z/N),\n",
    "                pos=vector(L*(x/(N-1)-.5),L*(y/(N-1)-.5),L*(z/(N-1)-.5)),\n",
    "                size=vector(length,height,length))\n",
    "            boxes.append(b)\n",
    "\n",
    "t = 0\n",
    "dt = 0.01\n",
    "loops = 0\n",
    "ctime = 0\n",
    "start = clock()\n",
    "N = 200\n",
    "\n",
    "# 6.4/100\n",
    "\n",
    "while True:\n",
    "    if loops == N:\n",
    "        s = '{:0.1f} millisecond computation per loop'.format(1000*ctime/loops)\n",
    "        s += '\\n{:3.0f} loops per second'.format(loops/(clock()-start))\n",
    "        scene.caption = s\n",
    "        ctime = 0\n",
    "        loops = 0\n",
    "        start = clock()\n",
    "    rate(N)\n",
    "    t += dt\n",
    "    ct = clock()\n",
    "    v = length*vector(sin(t), 0, cos(t))\n",
    "    for b in boxes:\n",
    "        b.axis = v\n",
    "    ctime += clock()-ct\n",
    "    loops += 1"
   ]
  },
  {
   "cell_type": "code",
   "execution_count": null,
   "metadata": {
    "collapsed": true,
    "jupyter": {
     "outputs_hidden": true
    }
   },
   "outputs": [],
   "source": []
  }
 ],
 "metadata": {
  "anaconda-cloud": {},
  "kernelspec": {
   "display_name": "Python 3 (ipykernel)",
   "language": "python",
   "name": "python3"
  },
  "language_info": {
   "codemirror_mode": {
    "name": "ipython",
    "version": 3
   },
   "file_extension": ".py",
   "mimetype": "text/x-python",
   "name": "python",
   "nbconvert_exporter": "python",
   "pygments_lexer": "ipython3",
   "version": "3.12.1"
  }
 },
 "nbformat": 4,
 "nbformat_minor": 4
}
