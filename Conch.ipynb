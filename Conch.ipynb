{
 "cells": [
  {
   "cell_type": "code",
   "execution_count": 1,
   "id": "9c2f0c0c-4898-4122-9c2a-f0f77ea52094",
   "metadata": {},
   "outputs": [
    {
     "data": {
      "text/html": [
       "<div id=\"glowscript\" class=\"glowscript\"></div>"
      ],
      "text/plain": [
       "<IPython.core.display.HTML object>"
      ]
     },
     "metadata": {},
     "output_type": "display_data"
    },
    {
     "data": {
      "application/javascript": [
       "if (typeof Jupyter !== \"undefined\") { window.__context = { glowscript_container: $(\"#glowscript\").removeAttr(\"id\")};}else{ element.textContent = ' ';}"
      ],
      "text/plain": [
       "<IPython.core.display.Javascript object>"
      ]
     },
     "metadata": {},
     "output_type": "display_data"
    },
    {
     "data": {
      "text/html": [
       "<div id=\"glowscript\" class=\"glowscript\"></div>"
      ],
      "text/plain": [
       "<IPython.core.display.HTML object>"
      ]
     },
     "metadata": {},
     "output_type": "display_data"
    },
    {
     "data": {
      "application/javascript": [
       "if (typeof Jupyter !== \"undefined\") { window.__context = { glowscript_container: $(\"#glowscript\").removeAttr(\"id\")};}else{ element.textContent = ' ';}"
      ],
      "text/plain": [
       "<IPython.core.display.Javascript object>"
      ]
     },
     "metadata": {},
     "output_type": "display_data"
    }
   ],
   "source": [
    "from vpython import *\n",
    "scene = canvas() # This is needed in Jupyter notebook and lab to make programs easily rerunnable\n",
    "# Kadir Haldenbilen, Feb. 2011\n",
    "\n",
    "scene.height = scene.width = 600\n",
    "scene.background = color.gray(0.7)\n",
    "scene.range = 3\n",
    "scene.ambient = 0.5*color.white\n",
    "\n",
    "scene.caption = \"\"\"To rotate \"camera\", drag with right button or Ctrl-drag.\n",
    "To zoom, drag with middle button or Alt/Option depressed, or use scroll wheel.\n",
    "  On a two-button mouse, middle is left + right.\n",
    "To pan left/right and up/down, Shift-drag.\n",
    "Touch screen: pinch/extend to zoom, swipe or two-finger rotate.\"\"\"\n",
    "\n",
    "def spiral(nloop=1, tightness=1.0, dir=1, scale=1):\n",
    "    spr = []\n",
    "    scale = []\n",
    "    clrs = []\n",
    "    zd = 0.01\n",
    "    for t in range(1, 1024*nloop, 16):\n",
    "        t *= 0.01\n",
    "        x = tightness/10 * t * cos(t)*dir\n",
    "        y = tightness/10 * t * sin(t)\n",
    "        sc = sqrt(x*x+y*y)\n",
    "        z = t/7\n",
    "        spr.append(vector(x,y,z))\n",
    "        clr = vector(z*cos(t), abs(sin(t)), abs(cos(t*2))).norm()\n",
    "        clrs.append(clr)\n",
    "        scale.append(sc)\n",
    "    return spr, scale, clrs\n",
    "\n",
    "path, scale, clrs = spiral(nloop=2, tightness=0.8)\n",
    "elps = shapes.circle(radius=0.69, thickness=0.01)\n",
    "\n",
    "ee = extrusion(shape=elps, path=path, color=clrs, scale=scale, texture=textures.rock)\n",
    "ee.rotate(angle=pi/2)\n",
    "scene.center = ee.pos-vec(0,.5,0)\n",
    "\n"
   ]
  },
  {
   "cell_type": "code",
   "execution_count": null,
   "id": "d01c51ea-d6a6-4d7f-aac1-de28cf657c72",
   "metadata": {},
   "outputs": [],
   "source": []
  }
 ],
 "metadata": {
  "kernelspec": {
   "display_name": "Python 3 (ipykernel)",
   "language": "python",
   "name": "python3"
  },
  "language_info": {
   "codemirror_mode": {
    "name": "ipython",
    "version": 3
   },
   "file_extension": ".py",
   "mimetype": "text/x-python",
   "name": "python",
   "nbconvert_exporter": "python",
   "pygments_lexer": "ipython3",
   "version": "3.12.1"
  }
 },
 "nbformat": 4,
 "nbformat_minor": 5
}
