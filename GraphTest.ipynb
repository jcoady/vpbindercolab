{
 "cells": [
  {
   "cell_type": "code",
   "execution_count": 1,
   "id": "8d8df325-f6f4-4a23-9d85-9d1e4dd2aa1e",
   "metadata": {},
   "outputs": [
    {
     "data": {
      "text/html": [
       "<div id=\"glowscript\" class=\"glowscript\"></div>"
      ],
      "text/plain": [
       "<IPython.core.display.HTML object>"
      ]
     },
     "metadata": {},
     "output_type": "display_data"
    },
    {
     "data": {
      "application/javascript": [
       "if (typeof Jupyter !== \"undefined\") { window.__context = { glowscript_container: $(\"#glowscript\").removeAttr(\"id\")};}else{ element.textContent = ' ';}"
      ],
      "text/plain": [
       "<IPython.core.display.Javascript object>"
      ]
     },
     "metadata": {},
     "output_type": "display_data"
    },
    {
     "data": {
      "text/html": [
       "<div id=\"glowscript\" class=\"glowscript\"></div>"
      ],
      "text/plain": [
       "<IPython.core.display.HTML object>"
      ]
     },
     "metadata": {},
     "output_type": "display_data"
    },
    {
     "data": {
      "application/javascript": [
       "if (typeof Jupyter !== \"undefined\") { window.__context = { glowscript_container: $(\"#glowscript\").removeAttr(\"id\")};}else{ element.textContent = ' ';}"
      ],
      "text/plain": [
       "<IPython.core.display.Javascript object>"
      ]
     },
     "metadata": {},
     "output_type": "display_data"
    }
   ],
   "source": [
    "from vpython import *\n",
    "scene = canvas() # This is needed in Jupyter notebook and lab to make programs easily rerunnable\n",
    "s = 'Test of <b><i>graphing</i></b>. Move the mouse over the graph to explore its interactivity.'\n",
    "s += '<br>Drag a rectangle in the graph to zoom. Examine the icons at the upper right.'\n",
    "s += '<br>Click the \"Reset axes\" icon to restore. Drag along the bottom or left to pan.'\n",
    "oscillation = graph(title=s, xtitle='time', ytitle='value', fast=False, width=800)\n",
    "funct1 = gcurve(color=color.blue, width=4, markers=True, marker_color=color.orange, label='curve')\n",
    "funct2 = gvbars(delta=0.4, color=color.green, label='bars')\n",
    "funct3 = gdots(color=color.red, size=6, label='dots')\n",
    "\n",
    "for t in range(-30, 74, 1):\n",
    "    rate(10)\n",
    "    funct1.plot( t, 5.0+5.0*cos(-0.2*t)*exp(0.015*t) )\n",
    "    funct2.plot( t, 2.0+5.0*cos(-0.1*t)*exp(0.015*t) )\n",
    "    funct3.plot( t, 5.0*cos(-0.03*t)*exp(0.015*t) )\n"
   ]
  },
  {
   "cell_type": "code",
   "execution_count": 1,
   "id": "0218fd45-6abe-4301-ab57-56a7b877350c",
   "metadata": {},
   "outputs": [
    {
     "data": {
      "text/html": [
       "<div id=\"glowscript\" class=\"glowscript\"></div>"
      ],
      "text/plain": [
       "<IPython.core.display.HTML object>"
      ]
     },
     "metadata": {},
     "output_type": "display_data"
    },
    {
     "data": {
      "application/javascript": [
       "if (typeof Jupyter !== \"undefined\") { window.__context = { glowscript_container: $(\"#glowscript\").removeAttr(\"id\")};}else{ element.textContent = ' ';}"
      ],
      "text/plain": [
       "<IPython.core.display.Javascript object>"
      ]
     },
     "metadata": {},
     "output_type": "display_data"
    },
    {
     "data": {
      "text/html": [
       "<div id=\"glowscript\" class=\"glowscript\"></div>"
      ],
      "text/plain": [
       "<IPython.core.display.HTML object>"
      ]
     },
     "metadata": {},
     "output_type": "display_data"
    },
    {
     "data": {
      "application/javascript": [
       "if (typeof Jupyter !== \"undefined\") { window.__context = { glowscript_container: $(\"#glowscript\").removeAttr(\"id\")};}else{ element.textContent = ' ';}"
      ],
      "text/plain": [
       "<IPython.core.display.Javascript object>"
      ]
     },
     "metadata": {},
     "output_type": "display_data"
    }
   ],
   "source": [
    "from vpython import *\n",
    "scene = canvas() # This is needed in Jupyter notebook and lab to make programs easily rerunnable\n",
    "s = 'Test of <b><i>graphing</i></b>. Move the mouse over the graph to explore its interactivity.'\n",
    "s += '<br>Drag a rectangle in the graph to zoom. Examine the icons at the upper right.'\n",
    "s += '<br>Click the \"Reset axes\" icon to restore. Drag along the bottom or left to pan.'\n",
    "oscillation = graph(title=s, xtitle='time', ytitle='value', fast=True, width=800)\n",
    "funct1 = gcurve(color=color.blue, width=4, markers=True, marker_color=color.orange, label='curve')\n",
    "funct2 = gvbars(delta=0.4, color=color.green, label='bars')\n",
    "funct3 = gdots(color=color.red, size=6, label='dots')\n",
    "\n",
    "for t in range(-30, 74, 1):\n",
    "    rate(10)\n",
    "    funct1.plot( t, 5.0+5.0*cos(-0.2*t)*exp(0.015*t) )\n",
    "    funct2.plot( t, 2.0+5.0*cos(-0.1*t)*exp(0.015*t) )\n",
    "    funct3.plot( t, 5.0*cos(-0.03*t)*exp(0.015*t) )\n"
   ]
  },
  {
   "cell_type": "code",
   "execution_count": null,
   "id": "3dd9999d-866a-4f21-832d-3512a8855c2f",
   "metadata": {},
   "outputs": [],
   "source": []
  }
 ],
 "metadata": {
  "kernelspec": {
   "display_name": "Python 3 (ipykernel)",
   "language": "python",
   "name": "python3"
  },
  "language_info": {
   "codemirror_mode": {
    "name": "ipython",
    "version": 3
   },
   "file_extension": ".py",
   "mimetype": "text/x-python",
   "name": "python",
   "nbconvert_exporter": "python",
   "pygments_lexer": "ipython3",
   "version": "3.12.2"
  }
 },
 "nbformat": 4,
 "nbformat_minor": 5
}
